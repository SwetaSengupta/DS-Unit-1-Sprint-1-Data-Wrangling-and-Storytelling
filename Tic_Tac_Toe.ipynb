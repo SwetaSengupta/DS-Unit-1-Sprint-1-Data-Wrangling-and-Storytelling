{
  "nbformat": 4,
  "nbformat_minor": 0,
  "metadata": {
    "colab": {
      "name": "Tic_Tac_Toe.ipynb",
      "provenance": [],
      "authorship_tag": "ABX9TyOQg6CO7LzQ1jUWZ+01G0eS",
      "include_colab_link": true
    },
    "kernelspec": {
      "name": "python3",
      "display_name": "Python 3"
    }
  },
  "cells": [
    {
      "cell_type": "markdown",
      "metadata": {
        "id": "view-in-github",
        "colab_type": "text"
      },
      "source": [
        "<a href=\"https://colab.research.google.com/github/ssgupta201301/DS-Unit-1-Sprint-1-Data-Wrangling-and-Storytelling/blob/master/Tic_Tac_Toe.ipynb\" target=\"_parent\"><img src=\"https://colab.research.google.com/assets/colab-badge.svg\" alt=\"Open In Colab\"/></a>"
      ]
    },
    {
      "cell_type": "code",
      "metadata": {
        "id": "Fti_hDMSdEkz",
        "colab_type": "code",
        "colab": {}
      },
      "source": [
        "# Specifically for the iPython Notebook environment for clearing output\n",
        "from IPython.display import clear_output\n",
        "import random\n",
        "\n",
        "# Global variables\n",
        "theBoard = [' '] * 10   # a list of empty spaces\n",
        "available = [str(num) for num in range(0,10)] # a List Comprehension\n",
        "players = [0,'X','O']   # note that players[1] == 'X' and players[-1] == 'O'"
      ],
      "execution_count": 0,
      "outputs": []
    },
    {
      "cell_type": "code",
      "metadata": {
        "id": "gFAWpfHPdXpE",
        "colab_type": "code",
        "colab": {}
      },
      "source": [
        "def display_board(a,b):\n",
        "    print('Available   TIC-TAC-TOE\\n'+\n",
        "           '  moves\\n\\n  '+\n",
        "          a[7]+'|'+a[8]+'|'+a[9]+'        '+b[7]+'|'+b[8]+'|'+b[9]+'\\n  '+\n",
        "          '-----        -----\\n  '+\n",
        "          a[4]+'|'+a[5]+'|'+a[6]+'        '+b[4]+'|'+b[5]+'|'+b[6]+'\\n  '+\n",
        "          '-----        -----\\n  '+\n",
        "          a[1]+'|'+a[2]+'|'+a[3]+'        '+b[1]+'|'+b[2]+'|'+b[3]+'\\n')\n",
        "display_board(available,theBoard)"
      ],
      "execution_count": 0,
      "outputs": []
    },
    {
      "cell_type": "code",
      "metadata": {
        "id": "m6Cm8VksdXlE",
        "colab_type": "code",
        "colab": {}
      },
      "source": [
        "def display_board(a,b):\n",
        "    print(f'Available   TIC-TAC-TOE\\n  moves\\n\\n  {a[7]}|{a[8]}|{a[9]}        {b[7]}|{b[8]}|{b[9]}\\n  -----        -----\\n  {a[4]}|{a[5]}|{a[6]}        {b[4]}|{b[5]}|{b[6]}\\n  -----        -----\\n  {a[1]}|{a[2]}|{a[3]}        {b[1]}|{b[2]}|{b[3]}\\n')\n",
        "display_board(available,theBoard)\n"
      ],
      "execution_count": 0,
      "outputs": []
    },
    {
      "cell_type": "code",
      "metadata": {
        "id": "SPPi-sH_dXhT",
        "colab_type": "code",
        "colab": {}
      },
      "source": [
        "def place_marker(avail,board,marker,position):\n",
        "    board[position] = marker\n",
        "    avail[position] = ' '"
      ],
      "execution_count": 0,
      "outputs": []
    },
    {
      "cell_type": "code",
      "metadata": {
        "id": "WJpinmKRdXdb",
        "colab_type": "code",
        "colab": {}
      },
      "source": [
        "def win_check(board,mark):\n",
        "\n",
        "    return ((board[7] ==  board[8] ==  board[9] == mark) or # across the top\n",
        "    (board[4] ==  board[5] ==  board[6] == mark) or # across the middle\n",
        "    (board[1] ==  board[2] ==  board[3] == mark) or # across the bottom\n",
        "    (board[7] ==  board[4] ==  board[1] == mark) or # down the middle\n",
        "    (board[8] ==  board[5] ==  board[2] == mark) or # down the middle\n",
        "    (board[9] ==  board[6] ==  board[3] == mark) or # down the right side\n",
        "    (board[7] ==  board[5] ==  board[3] == mark) or # diagonal\n",
        "    (board[9] ==  board[5] ==  board[1] == mark)) # diagonal"
      ],
      "execution_count": 0,
      "outputs": []
    },
    {
      "cell_type": "code",
      "metadata": {
        "id": "-v0ujLTQdXZk",
        "colab_type": "code",
        "colab": {}
      },
      "source": [
        "def random_player():\n",
        "    return random.choice((-1, 1))\n",
        "    \n",
        "def space_check(board,position):\n",
        "    return board[position] == ' '\n",
        "\n",
        "def full_board_check(board):\n",
        "    return ' ' not in board[1:]"
      ],
      "execution_count": 0,
      "outputs": []
    },
    {
      "cell_type": "code",
      "metadata": {
        "id": "wzhq-ETXdXVb",
        "colab_type": "code",
        "colab": {}
      },
      "source": [
        "def player_choice(board,player):\n",
        "    position = 0\n",
        "    \n",
        "    while position not in [1,2,3,4,5,6,7,8,9] or not space_check(board, position):\n",
        "        try:\n",
        "            position = int(input('Player %s, choose your next position: (1-9) '%(player)))\n",
        "        except:\n",
        "            print(\"I'm sorry, please try again.\")\n",
        "        \n",
        "    return position"
      ],
      "execution_count": 0,
      "outputs": []
    },
    {
      "cell_type": "code",
      "metadata": {
        "id": "0UC26rGndXR7",
        "colab_type": "code",
        "colab": {}
      },
      "source": [
        "def replay():\n",
        "    \n",
        "    return input('Do you want to play again? Enter Yes or No: ').lower().startswith('y')"
      ],
      "execution_count": 0,
      "outputs": []
    },
    {
      "cell_type": "code",
      "metadata": {
        "id": "1KryN7FAdXOL",
        "colab_type": "code",
        "colab": {}
      },
      "source": [
        "while True:\n",
        "    clear_output()\n",
        "    print('Welcome to Tic Tac Toe!')\n",
        "    \n",
        "    toggle = random_player()\n",
        "    player = players[toggle]\n",
        "    print('For this round, Player %s will go first!' %(player))\n",
        "    \n",
        "    game_on = True\n",
        "    input('Hit Enter to continue')\n",
        "    while game_on:\n",
        "        display_board(available,theBoard)\n",
        "        position = player_choice(theBoard,player)\n",
        "        place_marker(available,theBoard,player,position)\n",
        "\n",
        "        if win_check(theBoard, player):\n",
        "            display_board(available,theBoard)\n",
        "            print('Congratulations! Player '+player+' wins!')\n",
        "            game_on = False\n",
        "        else:\n",
        "            if full_board_check(theBoard):\n",
        "                display_board(available,theBoard)\n",
        "                print('The game is a draw!')\n",
        "                break\n",
        "            else:\n",
        "                toggle *= -1\n",
        "                player = players[toggle]\n",
        "                clear_output()\n",
        "\n",
        "    # reset the board and available moves list\n",
        "    theBoard = [' '] * 10\n",
        "    available = [str(num) for num in range(0,10)]\n",
        "    \n",
        "    if not replay():\n",
        "        break"
      ],
      "execution_count": 0,
      "outputs": []
    },
    {
      "cell_type": "code",
      "metadata": {
        "id": "LfqmlhDddXKU",
        "colab_type": "code",
        "colab": {}
      },
      "source": [
        "Welcome to Tic Tac Toe!\n",
        "For this round, Player X will go first!"
      ],
      "execution_count": 0,
      "outputs": []
    },
    {
      "cell_type": "code",
      "metadata": {
        "id": "g8HVTsDsdXC0",
        "colab_type": "code",
        "colab": {}
      },
      "source": [
        ""
      ],
      "execution_count": 0,
      "outputs": []
    },
    {
      "cell_type": "code",
      "metadata": {
        "id": "3uGpFEg2dW-7",
        "colab_type": "code",
        "colab": {}
      },
      "source": [
        ""
      ],
      "execution_count": 0,
      "outputs": []
    },
    {
      "cell_type": "code",
      "metadata": {
        "id": "fh-tBThedW6N",
        "colab_type": "code",
        "colab": {}
      },
      "source": [
        ""
      ],
      "execution_count": 0,
      "outputs": []
    },
    {
      "cell_type": "code",
      "metadata": {
        "id": "8nRMi8wSdW0j",
        "colab_type": "code",
        "colab": {}
      },
      "source": [
        ""
      ],
      "execution_count": 0,
      "outputs": []
    }
  ]
}